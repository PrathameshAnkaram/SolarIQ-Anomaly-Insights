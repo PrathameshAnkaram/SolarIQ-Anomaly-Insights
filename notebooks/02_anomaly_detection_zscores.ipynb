{
 "cells": [
  {
   "cell_type": "code",
   "execution_count": null,
   "metadata": {
    "vscode": {
     "languageId": "plaintext"
    }
   },
   "outputs": [],
   "source": [
    "import pandas as pd\n",
    "import numpy as np\n",
    "import matplotlib.pyplot as plt\n",
    "\n",
    "df = pd.read_csv('../data/processed/solar_california_cleaned.csv', parse_dates=['timestamp'])\n",
    "\n",
    "# Rolling stats\n",
    "df['rolling_mean'] = df['generation'].rolling(window=24).mean()\n",
    "df['rolling_std'] = df['generation'].rolling(window=24).std()\n",
    "\n",
    "# Z-score\n",
    "df['z_score'] = (df['generation'] - df['rolling_mean']) / df['rolling_std']\n",
    "df['anomaly'] = df['z_score'].abs() > 3\n",
    "\n",
    "# Visualize\n",
    "plt.figure(figsize=(15,6))\n",
    "plt.plot(df['timestamp'], df['generation'], label='Generation')\n",
    "plt.scatter(df[df['anomaly']]['timestamp'], df[df['anomaly']]['generation'], color='red', label='Anomalies')\n",
    "plt.title(\"Solar Generation with Anomalies (California)\")\n",
    "plt.xlabel(\"Time\")\n",
    "plt.ylabel(\"Generation (MW)\")\n",
    "plt.legend()\n",
    "plt.tight_layout()\n",
    "plt.savefig('../output/solar_anomalies_zscore.png')\n",
    "plt.show()"
   ]
  }
 ],
 "metadata": {
  "language_info": {
   "name": "python"
  }
 },
 "nbformat": 4,
 "nbformat_minor": 2
}
