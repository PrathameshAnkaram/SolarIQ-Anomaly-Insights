{
 "cells": [
  {
   "cell_type": "code",
   "execution_count": null,
   "metadata": {
    "vscode": {
     "languageId": "plaintext"
    }
   },
   "outputs": [],
   "source": [
    "import pandas as pd\n",
    "\n",
    "df = pd.read_csv('../data/raw/solar_california_raw.csv')\n",
    "\n",
    "# Convert timestamp\n",
    "df['timestamp'] = pd.to_datetime(df['period'])\n",
    "\n",
    "# Rename for clarity\n",
    "df.rename(columns={'value': 'generation'}, inplace=True)\n",
    "\n",
    "# Filter only necessary columns\n",
    "df = df[['timestamp', 'generation']]\n",
    "\n",
    "# Drop missing or negative values\n",
    "df = df.dropna()\n",
    "df = df[df['generation'] > 0]\n",
    "\n",
    "# Add time features\n",
    "df['hour'] = df['timestamp'].dt.hour\n",
    "df['day'] = df['timestamp'].dt.day\n",
    "df['weekday'] = df['timestamp'].dt.weekday\n",
    "df['month'] = df['timestamp'].dt.month\n",
    "\n",
    "df.to_csv('../data/processed/solar_california_cleaned.csv', index=False)\n",
    "df.head()"
   ]
  }
 ],
 "metadata": {
  "language_info": {
   "name": "python"
  }
 },
 "nbformat": 4,
 "nbformat_minor": 2
}
